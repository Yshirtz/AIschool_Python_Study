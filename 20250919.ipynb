{
 "cells": [
  {
   "cell_type": "markdown",
   "id": "1df12455",
   "metadata": {},
   "source": [
    "*실습 특성상 일부러 에러낸 코드가 있을 수 있음"
   ]
  },
  {
   "cell_type": "markdown",
   "id": "e18fadf5",
   "metadata": {},
   "source": [
    "## 기본 자료형"
   ]
  },
  {
   "cell_type": "markdown",
   "id": "8972e696",
   "metadata": {},
   "source": [
    "3 = 정수 int\n",
    "\n",
    "4.5 = 실수 float\n",
    "\n",
    "\"반갑다!\" = 문자열 string\n",
    "\n",
    "참('True'),거짓(0) = 참거짓형 boolean"
   ]
  },
  {
   "cell_type": "code",
   "execution_count": 5,
   "id": "29f4b047",
   "metadata": {},
   "outputs": [
    {
     "name": "stdout",
     "output_type": "stream",
     "text": [
      "hello world!\n"
     ]
    }
   ],
   "source": [
    "print(\"hello world!\") ## 기본적인 출력함수"
   ]
  },
  {
   "cell_type": "code",
   "execution_count": null,
   "id": "88196932",
   "metadata": {},
   "outputs": [
    {
     "data": {
      "text/plain": [
       "'hello'"
      ]
     },
     "execution_count": 3,
     "metadata": {},
     "output_type": "execute_result"
    }
   ],
   "source": [
    "\"hello\" ## 변수만 적어도 주피터노트북 특성상 출력은 해준다. 여기만의 특수성"
   ]
  },
  {
   "cell_type": "code",
   "execution_count": 9,
   "id": "20af25cc",
   "metadata": {},
   "outputs": [
    {
     "name": "stdout",
     "output_type": "stream",
     "text": [
      "<class 'str'>\n",
      "<class 'bool'>\n",
      "<class 'int'>\n",
      "<class 'float'>\n"
     ]
    },
    {
     "data": {
      "text/plain": [
       "int"
      ]
     },
     "execution_count": 9,
     "metadata": {},
     "output_type": "execute_result"
    }
   ],
   "source": [
    "print(type('hello world'))\n",
    "print(type(True))\n",
    "print(type(3))\n",
    "print(type(3.14)) ## 변수의 자료형을 출력하는 함수\n",
    "type(3) ## 주피터에서 함수만 쓰면 이렇게됨"
   ]
  },
  {
   "cell_type": "code",
   "execution_count": null,
   "id": "662f19cd",
   "metadata": {},
   "outputs": [
    {
     "name": "stdout",
     "output_type": "stream",
     "text": [
      "20\n"
     ]
    }
   ],
   "source": [
    "mynum = 10\n",
    "mynum = mynum + 10\n",
    "print(mynum) #이렇게는 되지만"
   ]
  },
  {
   "cell_type": "code",
   "execution_count": null,
   "id": "59d7d614",
   "metadata": {},
   "outputs": [
    {
     "ename": "SyntaxError",
     "evalue": "invalid syntax (343145670.py, line 1)",
     "output_type": "error",
     "traceback": [
      "  \u001b[36mCell\u001b[39m\u001b[36m \u001b[39m\u001b[32mIn[21]\u001b[39m\u001b[32m, line 1\u001b[39m\n\u001b[31m    \u001b[39m\u001b[31mint mynum2 = 10\u001b[39m\n        ^\n\u001b[31mSyntaxError\u001b[39m\u001b[31m:\u001b[39m invalid syntax\n"
     ]
    }
   ],
   "source": [
    "int mynum2 = 10\n",
    "mynum2 = mynum2 + 1.2\n",
    "print(mynum2) ## 이렇게 자료형을 미리 정하고 맞지않는 자료형이랑 붙이면 에러난다"
   ]
  },
  {
   "cell_type": "code",
   "execution_count": 25,
   "id": "700609d5",
   "metadata": {},
   "outputs": [
    {
     "name": "stdout",
     "output_type": "stream",
     "text": [
      "HelloWorld\n",
      "HelloHelloHelloHelloHelloHelloHelloHelloHelloHello\n",
      "HelloHelloHelloHelloHelloHelloHelloHelloHelloHello\n"
     ]
    }
   ],
   "source": [
    "str1 = \"Hello\"\n",
    "str2 = \"World\"\n",
    "print(str1+str2) ## 문자열끼리 더하면 합쳐진다\n",
    "print(str1*10) ## 곱하면 반복뵌다\n",
    "print(10*str1) ## 문자열이 포함되기만 하면 문자열기준으로 출력된다"
   ]
  },
  {
   "cell_type": "code",
   "execution_count": null,
   "id": "daa03987",
   "metadata": {},
   "outputs": [
    {
     "ename": "TypeError",
     "evalue": "can only concatenate str (not \"float\") to str",
     "output_type": "error",
     "traceback": [
      "\u001b[31m---------------------------------------------------------------------------\u001b[39m",
      "\u001b[31mTypeError\u001b[39m                                 Traceback (most recent call last)",
      "\u001b[36mCell\u001b[39m\u001b[36m \u001b[39m\u001b[32mIn[26]\u001b[39m\u001b[32m, line 1\u001b[39m\n\u001b[32m----> \u001b[39m\u001b[32m1\u001b[39m \u001b[38;5;28mprint\u001b[39m(\u001b[43mstr1\u001b[49m\u001b[43m \u001b[49m\u001b[43m+\u001b[49m\u001b[43m \u001b[49m\u001b[43mmynum\u001b[49m)\n",
      "\u001b[31mTypeError\u001b[39m: can only concatenate str (not \"float\") to str"
     ]
    }
   ],
   "source": [
    "print(str1 + mynum) \n",
    "## 파이썬은 암시적 형변환이 없어서 자료형이 다른 변수끼리는 합산이 안된다."
   ]
  },
  {
   "cell_type": "markdown",
   "id": "a8e75e87",
   "metadata": {},
   "source": [
    "## 비교연산자"
   ]
  },
  {
   "cell_type": "markdown",
   "id": "39b922e0",
   "metadata": {},
   "source": [
    "같다, 다르다, 크다, 작다\n",
    "\n",
    "== ,   != , >(=), <(=)"
   ]
  },
  {
   "cell_type": "code",
   "execution_count": 27,
   "id": "43682155",
   "metadata": {},
   "outputs": [
    {
     "name": "stdout",
     "output_type": "stream",
     "text": [
      "True\n",
      "False\n",
      "False\n",
      "True\n",
      "True\n",
      "False\n",
      "True\n",
      "True\n"
     ]
    }
   ],
   "source": [
    "print(1 == 1)\n",
    "print(1 == 0)\n",
    "print(1 != 1)\n",
    "print(1 != 0)\n",
    "print(1 > 0)\n",
    "print(1 < 0)\n",
    "print(1 >= 1)\n",
    "print(1 <= 1)\n"
   ]
  },
  {
   "cell_type": "code",
   "execution_count": 28,
   "id": "b0fb2530",
   "metadata": {},
   "outputs": [
    {
     "name": "stdout",
     "output_type": "stream",
     "text": [
      "Hello World\n",
      "Hello World\n"
     ]
    }
   ],
   "source": [
    "print(str1 +  \" \"  + str2)\n",
    "print(str1, str2) ## ,을 쓰면 이렇게 간단하게 띄어쓰기 구현이 된다."
   ]
  },
  {
   "cell_type": "markdown",
   "id": "7224dded",
   "metadata": {},
   "source": [
    "## 입력"
   ]
  },
  {
   "cell_type": "code",
   "execution_count": 29,
   "id": "afa45adc",
   "metadata": {},
   "outputs": [
    {
     "data": {
      "text/plain": [
       "'ddkssud'"
      ]
     },
     "execution_count": 29,
     "metadata": {},
     "output_type": "execute_result"
    }
   ],
   "source": [
    "input()"
   ]
  },
  {
   "cell_type": "code",
   "execution_count": 30,
   "id": "7f86de2b",
   "metadata": {},
   "outputs": [
    {
     "name": "stdout",
     "output_type": "stream",
     "text": [
      "이름은 이승엽 입니다.\n"
     ]
    }
   ],
   "source": [
    "name = input(\"이름 입력 : \")\n",
    "print(\"이름은\", name, \"입니다.\")"
   ]
  },
  {
   "cell_type": "code",
   "execution_count": null,
   "id": "1f39b2ab",
   "metadata": {},
   "outputs": [
    {
     "name": "stdout",
     "output_type": "stream",
     "text": [
      "10.0 과 3.0 의 사칙연산\n",
      "10.0 + 3.0 = 13.0\n",
      "10.0 - 3.0 = 7.0\n",
      "10.0 x 3.0 = 30.0\n",
      "10.0 / 3.0 = 3.3333333333333335\n"
     ]
    }
   ],
   "source": [
    "## 과제\n",
    "## 사용자로부터 숫자 입력을 받아  +, -, *, / 연산결과를 출력하자\n",
    "numin1 = float(input(\"첫번째 숫자\")) ## 자료형으로 감싸주면된다\n",
    "numin2 = float(input(\"두번째 숫자\"))\n",
    "print(numin1, \"과\", numin2, \"의 사칙연산\")\n",
    "print(numin1, \"+\", numin2, \"=\", numin1+numin2)\n",
    "print(numin1, \"-\", numin2, \"=\", numin1-numin2)\n",
    "print(numin1, \"x\", numin2, \"=\", numin1*numin2)\n",
    "print(numin1, \"/\", numin2, \"=\", numin1/numin2)\n",
    "\n",
    "## 처음 input을 받을때는 무조건 문자열로 받는다. \n",
    "## 그러므로 다른 자료형을 받기 위해선 형변환으로 따로 자료형을 바꿔줘야한다"
   ]
  },
  {
   "cell_type": "code",
   "execution_count": null,
   "id": "df343372",
   "metadata": {},
   "outputs": [
    {
     "name": "stdout",
     "output_type": "stream",
     "text": [
      "27\n",
      "27\n"
     ]
    }
   ],
   "source": [
    "num1 = 0x1B ##16진수형식으로 저장하면 출력이 어떻게 될까?\n",
    "num2 = int(num1)\n",
    "print(num1)\n",
    "print(num2) ##진수 규칙만 지치면 알아서 숫자형으로 잘 바꿔서 출력해주나보다. "
   ]
  },
  {
   "cell_type": "markdown",
   "id": "9d055f27",
   "metadata": {},
   "source": [
    "## 변수"
   ]
  },
  {
   "cell_type": "markdown",
   "id": "b4947b5f",
   "metadata": {},
   "source": [
    "객체를 가리키는 것 \n",
    "객체? ==> 우리가 지금까지 보아온 자료형의 데이터 같은것들"
   ]
  },
  {
   "cell_type": "code",
   "execution_count": null,
   "id": "ec726c01",
   "metadata": {},
   "outputs": [],
   "source": [
    "mynumber34 = 1234 ## 기본적으로 영문으로 작성한다. 숫자도 넣을 수 있다.\n",
    "my_number = 5678 ## 언더바(_) 정도는 들어가도 된다\n",
    "MyNumber = 9101112 ## 대문자도 가능하다. 이걸로 대소문자로 변수구분도 된다"
   ]
  },
  {
   "cell_type": "code",
   "execution_count": 50,
   "id": "dcb4048f",
   "metadata": {},
   "outputs": [
    {
     "ename": "SyntaxError",
     "evalue": "invalid decimal literal (2683299532.py, line 1)",
     "output_type": "error",
     "traceback": [
      "  \u001b[36mCell\u001b[39m\u001b[36m \u001b[39m\u001b[32mIn[50]\u001b[39m\u001b[32m, line 1\u001b[39m\n\u001b[31m    \u001b[39m\u001b[31m1mynum = 1234 ## 숫자부터는 시작 못한다\u001b[39m\n    ^\n\u001b[31mSyntaxError\u001b[39m\u001b[31m:\u001b[39m invalid decimal literal\n"
     ]
    }
   ],
   "source": [
    "1mynum = 1234 ## 숫자부터는 시작 못한다\n",
    " "
   ]
  },
  {
   "cell_type": "code",
   "execution_count": null,
   "id": "dce8ccd0",
   "metadata": {},
   "outputs": [
    {
     "ename": "SyntaxError",
     "evalue": "invalid syntax (2240010301.py, line 1)",
     "output_type": "error",
     "traceback": [
      "  \u001b[36mCell\u001b[39m\u001b[36m \u001b[39m\u001b[32mIn[51]\u001b[39m\u001b[32m, line 1\u001b[39m\n\u001b[31m    \u001b[39m\u001b[31mmy$num = 5678\u001b[39m\n      ^\n\u001b[31mSyntaxError\u001b[39m\u001b[31m:\u001b[39m invalid syntax\n"
     ]
    }
   ],
   "source": [
    "my$num = 5678 ## 언더바(_) 이외 특문도 못쓴다"
   ]
  },
  {
   "cell_type": "code",
   "execution_count": null,
   "id": "123a7f97",
   "metadata": {},
   "outputs": [],
   "source": [
    "## int =100\n",
    "## 절대로 위 처럼 자료형으로 변수명 정하지 마라. \n",
    "## 파이썬이 일단 실행은 해주지만 뒤에 파이썬이 죽어버린다.\n",
    "## 만약 이미 이렇게 되어버렸다면 커널을 재시작 할 것."
   ]
  },
  {
   "cell_type": "markdown",
   "id": "633dc234",
   "metadata": {},
   "source": [
    "## 출력"
   ]
  },
  {
   "cell_type": "code",
   "execution_count": 58,
   "id": "a576ed3c",
   "metadata": {},
   "outputs": [
    {
     "name": "stdout",
     "output_type": "stream",
     "text": [
      "Hello\n",
      "Hello\n",
      "\"안녕\"이라고 말했다\n",
      "순간 '바본가'라고 생각했다\n",
      "\"안녕\"이라고 말했다\n",
      "순간 '바본가'라고 생각했다\n"
     ]
    }
   ],
   "source": [
    "print(\"Hello\") ## 무슨 차이지?\n",
    "print('Hello')\n",
    "\n",
    "print('\"안녕\"이라고 말했다')\n",
    "print(\"순간 '바본가'라고 생각했다\")\n",
    "## ''와 \"\"를 출력 문자열 안에 넣고싶을때를 위해 구별해서 넣을수 있게 했다\n",
    "\n",
    "print(\"\\\"안녕\\\"이라고 말했다\")\n",
    "print('순간 \\'바본가\\'라고 생각했다')\n",
    "## 이렇게 할수도 있긴 하다"
   ]
  },
  {
   "cell_type": "code",
   "execution_count": null,
   "id": "2d0e84fe",
   "metadata": {},
   "outputs": [
    {
     "name": "stdout",
     "output_type": "stream",
     "text": [
      "'낮말'은 새가 듣고 '밤말'은 쥐가 듣는다.\n"
     ]
    }
   ],
   "source": [
    "##과제\n",
    "\n",
    "print(\"'낮말'은 새가 듣고 '밤말'은 쥐가 듣는다.\")"
   ]
  },
  {
   "cell_type": "code",
   "execution_count": 65,
   "id": "01a5efd6",
   "metadata": {},
   "outputs": [
    {
     "name": "stdout",
     "output_type": "stream",
     "text": [
      "Hello,Hello,Hello,Hello,Hello\n",
      "\n",
      "구별점\n",
      "\n",
      "Hello\n",
      "Hello\n",
      "Hello\n",
      "Hello\n",
      "Hello,"
     ]
    }
   ],
   "source": [
    "print(\"Hello\",\"Hello\",\"Hello\",\"Hello\",\"Hello\", end=\"\", sep=\",\")\n",
    "print(\"\\n\\n구별점\\n\")\n",
    "print(\"Hello\",\"Hello\",\"Hello\",\"Hello\",\"Hello\", end=\",\", sep=\"\\n\")\n",
    "#한 함수 안에서 띄어쓰기나(sep),문장 끝(end)규칙을 바꿔줄 수 있다."
   ]
  },
  {
   "cell_type": "code",
   "execution_count": null,
   "id": "d4f19104",
   "metadata": {},
   "outputs": [
    {
     "name": "stdout",
     "output_type": "stream",
     "text": [
      "7 과 3 의 사칙연산\n",
      "7 + 3 = 10\n",
      "7 - 3 = 4\n",
      "7 x 3 = 21\n",
      "7 / 3 = 2.3333333333333335\n"
     ]
    }
   ],
   "source": [
    "num1 = 7\n",
    "num2 = 3\n",
    "print(num1, \"과\", num2, \"의 사칙연산\")\n",
    "print(num1, \"+\", num2, \"=\", num1+num2)\n",
    "print(num1, \"-\", num2, \"=\", num1-num2)\n",
    "print(num1, \"X\", num2, \"=\", num1*num2)\n",
    "print(num1, \"/\", num2, \"=\", num1/num2) \n",
    "## 보통 이렇게 출력할 수 있지만"
   ]
  },
  {
   "cell_type": "code",
   "execution_count": null,
   "id": "86dfc0a9",
   "metadata": {},
   "outputs": [
    {
     "name": "stdout",
     "output_type": "stream",
     "text": [
      "7과 3의 사칙연산\n",
      "7 + 3 = 10\n",
      "7 - 3 = 4\n",
      "7 X 3 = 21\n",
      "7 / 3 = 2.3333333333333335\n"
     ]
    }
   ],
   "source": [
    "print(f\"{num1}과 {num2}의 사칙연산\")\n",
    "print(f\"{num1} + {num2} = {num1+num2}\")\n",
    "print(f\"{num1} - {num2} = {num1-num2}\")\n",
    "print(f\"{num1} X {num2} = {num1*num2}\")\n",
    "print(f\"{num1} / {num2} = {num1/num2}\")\n",
    "## 이렇게 f-string으로 형식을 바꾸면 경우에 따라 더 편하게 쓸수 있다."
   ]
  },
  {
   "cell_type": "code",
   "execution_count": null,
   "id": "df070402",
   "metadata": {},
   "outputs": [
    {
     "name": "stdout",
     "output_type": "stream",
     "text": [
      "1000.1234과 2000.5678의 사칙연산\n",
      "1000.1234 + 2000.5678 = 3,000.69\n",
      "1000.1234 - 2000.5678 = -1,000.44\n",
      "1000.1234 X 2000.5678 = 2,000,814.67\n",
      "1000.1234 / 2000.5678 = 0.50\n"
     ]
    }
   ],
   "source": [
    "num1 = 1000.1234\n",
    "num2 = 2000.5678\n",
    "print(\"{0}과 {1}의 사칙연산\".format(num1,num2))\n",
    "print(\"{0} + {1} = {2:,.2f}\".format(num1,num2,num1+num2))\n",
    "print(\"{0} - {1} = {2:,.2f}\".format(num1,num2,num1-num2))\n",
    "print(\"{0} X {1} = {2:,.2f}\".format(num1,num2,num1*num2))\n",
    "print(\"{0} / {1} = {2:,.2f}\".format(num1,num2,num1/num2))\n",
    "## 소숫점 자리 제한도 된다.(일반 print문도 가능은 할거다) \n",
    "## 경우에따라 잘 써야할거같다. 익숙해지면 편할거같다."
   ]
  },
  {
   "cell_type": "markdown",
   "id": "dd30c42a",
   "metadata": {},
   "source": [
    "## BOOL형의 조건"
   ]
  },
  {
   "cell_type": "code",
   "execution_count": 73,
   "id": "ff243070",
   "metadata": {},
   "outputs": [
    {
     "name": "stdout",
     "output_type": "stream",
     "text": [
      "True\n",
      "True\n",
      "True\n",
      "True\n",
      "True\n",
      "True\n",
      "False\n"
     ]
    }
   ],
   "source": [
    "print(bool(\"1\"))\n",
    "print(bool(\"-1\"))\n",
    "print(bool(\"으아아악\"))\n",
    "print(bool(\"LMAO\"))\n",
    "print(bool(\" \"))\n",
    "print(bool(\"0\"))\n",
    "print(bool(\"\"))"
   ]
  },
  {
   "cell_type": "code",
   "execution_count": 77,
   "id": "ca72b4b5",
   "metadata": {},
   "outputs": [
    {
     "name": "stdout",
     "output_type": "stream",
     "text": [
      "어서오세요! 김밥지옥입니다! 아래는 메뉴입니다!\n",
      "깁밥 : 3,000원\n",
      "떡볶이 : 3,500원\n",
      "라면 : 2,500원\n",
      "\n",
      "깁밥 주문 갯수 : 2\n",
      "떡볶이 주문 갯수 : 1\n",
      "라면 주문 갯수 : 2\n",
      "지불하실 금액은 14,500원 입니다.\n"
     ]
    }
   ],
   "source": [
    "##과제 분식집\n",
    "\n",
    "print(\"어서오세요! 김밥지옥입니다! 아래는 메뉴입니다!\")\n",
    "print(\"깁밥 : 3,000원\",\"떡볶이 : 3,500원\", \"라면 : 2,500원\\n\",sep=\"\\n\")\n",
    "\n",
    "kimbab = int(input(\"깁밥 몇개 주문하시겠어요?\"))\n",
    "tteokbokkee = int(input(\"떡볶이 몇개 주문하시겠어요?\"))\n",
    "Ramyeon = int(input(\"라면 몇개 주문하시겠어요?\"))\n",
    "\n",
    "print(\"깁밥 주문 갯수 :\", kimbab)\n",
    "print(\"떡볶이 주문 갯수 :\", tteokbokkee)\n",
    "print(\"라면 주문 갯수 :\", Ramyeon)\n",
    "print(f\"지불하실 금액은 {kimbab*3000 + tteokbokkee*3500 + Ramyeon*2500:,}원 입니다.\")"
   ]
  },
  {
   "cell_type": "markdown",
   "id": "0b345da8",
   "metadata": {},
   "source": [
    "## 조건문"
   ]
  },
  {
   "cell_type": "code",
   "execution_count": null,
   "id": "29257f3b",
   "metadata": {},
   "outputs": [
    {
     "name": "stdout",
     "output_type": "stream",
     "text": [
      "조건이 거짓일 경우\n",
      "이렇게 출력됨\n"
     ]
    }
   ],
   "source": [
    "##조건에 따라 명령어의 실행여부를 결정한다.\n",
    "isit = True ## True, 0 둘중 하나를 돌아가며 실험해보자\n",
    "\n",
    "if isit:\n",
    "    print(\"조건이 참일 경우\")\n",
    "else:\n",
    "    print(\"조건이 거짓일 경우\")\n",
    "\n",
    "print(\"이렇게 출력됨\")\n"
   ]
  },
  {
   "cell_type": "code",
   "execution_count": null,
   "id": "bda710b6",
   "metadata": {},
   "outputs": [
    {
     "name": "stdout",
     "output_type": "stream",
     "text": [
      "점수가 0점이거나 그 이외의 값일 경우\n",
      "점수는 -100점\n"
     ]
    }
   ],
   "source": [
    "score = -100\n",
    "\n",
    "if score == 100:\n",
    "    print(\"점수가 100점일 경우\")\n",
    "elif score < 100 and score > 0:\n",
    "    print(\"점수가 100점이 아닐 경우\") \n",
    "else:\n",
    "    print(\"점수가 0점이거나 그 이외의 값일 경우\")\n",
    "\n",
    "print(\"점수는 \", score, \"점\",sep ='')"
   ]
  },
  {
   "cell_type": "code",
   "execution_count": 88,
   "id": "5b1bc9ae",
   "metadata": {},
   "outputs": [
    {
     "name": "stdout",
     "output_type": "stream",
     "text": [
      "7은(는) 홀수입니다.\n"
     ]
    }
   ],
   "source": [
    "##홀짝 구분하기\n",
    "num = int(input('숫자를 입력하세요 : '))\n",
    "\n",
    "if num%2 ==0:\n",
    "    print(f\"{num}은(는) 짝수입니다.\")\n",
    "else:\n",
    "    print(f\"{num}은(는) 홀수입니다.\")"
   ]
  },
  {
   "cell_type": "code",
   "execution_count": 103,
   "id": "c3041c14",
   "metadata": {},
   "outputs": [
    {
     "name": "stdout",
     "output_type": "stream",
     "text": [
      "점수는 56점... F입니다...\n"
     ]
    }
   ],
   "source": [
    "## 점수 계산 프로그램\n",
    "\n",
    "score = int(input(\"점수를 입력해주세요 : \"))\n",
    "\n",
    "if score <=100 and score>=0:\n",
    "    if score>=90:\n",
    "        print(f\"점수는 {score}점! A입니다!\")\n",
    "    elif score>=80:\n",
    "        print(f\"점수는 {score}점! B입니다!\")\n",
    "    elif score>=70:\n",
    "        print(f\"점수는 {score}점. C입니다.\")\n",
    "    elif score>=60:\n",
    "        print(f\"점수는 {score}점.. D입니다..\")\n",
    "    else:\n",
    "        print(f\"점수는 {score}점... F입니다...\")\n",
    "else:\n",
    "    print(\"점수가 이상해요! 다시 입력해주세요!\")"
   ]
  },
  {
   "cell_type": "markdown",
   "id": "47aac690",
   "metadata": {},
   "source": [
    "## 반복문 (for,While)"
   ]
  },
  {
   "cell_type": "code",
   "execution_count": null,
   "id": "1137a47b",
   "metadata": {},
   "outputs": [
    {
     "name": "stdout",
     "output_type": "stream",
     "text": [
      "Hello\n",
      "Hello\n",
      "Hello\n",
      "Hello\n",
      "Hello\n",
      "Hello\n",
      "Hello\n",
      "Hello\n",
      "Hello\n",
      "Hello\n",
      "A반 출석번호 1번! 춘식이!\n",
      "A반 출석번호 2번! 두식이!\n",
      "A반 출석번호 3번! 삼식이!\n",
      "A반 출석번호 4번! 너시기!\n",
      "A반 출석번호 5번! 오징어!\n",
      "A반 출석번호 6번! 육개장!\n"
     ]
    }
   ],
   "source": [
    "## for 반복문\n",
    "\n",
    "for i in range(10): #기본적인 형태 \n",
    "    print(\"Hello\")\n",
    "\n",
    "classnum = 1\n",
    "class_A = [\"춘식이\", \"두식이\", \"삼식이\", \"너시기\", \"오징어\", \"육개장\"]\n",
    "for student in class_A: #배열이나 리스트에서도 쓸 수 있다.\n",
    "    print(f\"A반 출석번호 {classnum}번! {student}!\")\n",
    "    classnum += 1\n",
    "\n",
    "## range(n)은 0부터 n-1까지 연속으로 숫자 시퀀스를 만들어주는 함수\n",
    "## 경우에 따라 (s,n)형태로 시작 숫자를 정할 수도 있고, (s,n,step)으로 step씩 건너뛰며 만들게 할수도 있다."
   ]
  },
  {
   "cell_type": "code",
   "execution_count": null,
   "id": "97a8a2f7",
   "metadata": {},
   "outputs": [
    {
     "name": "stdout",
     "output_type": "stream",
     "text": [
      "1부터 10까지의 합 55\n",
      "1부터 10까지의 곱 3628800\n",
      "4 X 1 = 4\n",
      "4 X 2 = 8\n",
      "4 X 3 = 12\n",
      "4 X 4 = 16\n",
      "4 X 5 = 20\n",
      "4 X 6 = 24\n",
      "4 X 7 = 28\n",
      "4 X 8 = 32\n",
      "4 X 9 = 36\n"
     ]
    }
   ],
   "source": [
    "##과제 1부터 10까지의 합과 곱, 그리고 입력한 단수의 구구단\n",
    "num = 0\n",
    "for i in range(1,11):\n",
    "    num += i\n",
    "\n",
    "print(\"1부터 10까지의 합\", num)\n",
    "\n",
    "num = 1\n",
    "for i in range(1,11):\n",
    "    num *= i\n",
    "\n",
    "print(\"1부터 10까지의 곱\", num)\n",
    "\n",
    "num = int(input(\"단수는? : \"))\n",
    "\n",
    "for i in range(1,10):\n",
    "    print(f\"{num} X {i} = {num*i}\")"
   ]
  },
  {
   "cell_type": "code",
   "execution_count": 116,
   "id": "b2a9c49d",
   "metadata": {},
   "outputs": [
    {
     "name": "stdout",
     "output_type": "stream",
     "text": [
      "1번째 Hello!\n",
      "2번째 Hello!\n",
      "3번째 Hello!\n",
      "4번째 Hello!\n",
      "5번째 Hello!\n",
      "6번째 Hello!\n",
      "7번째 Hello!\n",
      "8번째 Hello!\n",
      "9번째 Hello!\n",
      "10번째 Hello!\n"
     ]
    }
   ],
   "source": [
    "## while문\n",
    "i=1\n",
    "while i <= 10: ## 기본적인 형태\n",
    "    print(f\"{i}번째 Hello!\")\n",
    "    i += 1"
   ]
  },
  {
   "cell_type": "code",
   "execution_count": null,
   "id": "d1e90d7c",
   "metadata": {},
   "outputs": [
    {
     "name": "stdout",
     "output_type": "stream",
     "text": [
      "합은 55\n",
      "곱은 3628800\n",
      "10 X 1 = 10\n",
      "10 X 2 = 20\n",
      "10 X 3 = 30\n",
      "10 X 4 = 40\n",
      "10 X 5 = 50\n",
      "10 X 6 = 60\n",
      "10 X 7 = 70\n",
      "10 X 8 = 80\n",
      "10 X 9 = 90\n"
     ]
    }
   ],
   "source": [
    "#while문으로 1부터 입력받은 정수값까지의 합을 구하기\n",
    "sum = 0\n",
    "i = 1\n",
    "numinput = int(input(\"정수 입력 : \"))\n",
    "while i <= numinput:\n",
    "    sum += i\n",
    "    i += 1\n",
    "\n",
    "print(f\"합은 {sum}\")\n",
    "\n",
    "#곱 구하기\n",
    "sum = 1\n",
    "i = 1\n",
    "numinput = int(input(\"정수 입력 : \"))\n",
    "while i <= numinput:\n",
    "    sum *= i\n",
    "    i += 1\n",
    "\n",
    "print(f\"곱은 {sum}\")\n",
    "\n",
    "#구구단 만들기\n",
    "i = 1\n",
    "numinput = int(input(\"정수 입력 : \"))\n",
    "while i <= 9:\n",
    "    print(f\"{numinput} X {i} = {numinput*i}\")\n",
    "    i += 1\n",
    "\n"
   ]
  },
  {
   "cell_type": "markdown",
   "id": "53faff07",
   "metadata": {},
   "source": [
    "Break, Continue"
   ]
  },
  {
   "cell_type": "code",
   "execution_count": 98,
   "id": "e9ed72d1",
   "metadata": {},
   "outputs": [
    {
     "name": "stdout",
     "output_type": "stream",
     "text": [
      "1부터 100사이의 숫자를 골라주세요 : 50\n",
      "DOWN!\n",
      "1부터 100사이의 숫자를 골라주세요 : 25\n",
      "UP!\n",
      "1부터 100사이의 숫자를 골라주세요 : 35\n",
      "UP!\n",
      "1부터 100사이의 숫자를 골라주세요 : 45\n",
      "UP!\n",
      "1부터 100사이의 숫자를 골라주세요 : 47\n",
      "UP!\n",
      "1부터 100사이의 숫자를 골라주세요 : 48\n",
      "정답! 답은 48 이었습니다! 6번만에 맞추셨어요!\n"
     ]
    }
   ],
   "source": [
    "import random\n",
    "\n",
    "answer = random.randint(1,100)\n",
    "i = 1\n",
    "while True:\n",
    "    print(\"1부터 100사이의 숫자를 골라주세요 : \",end=\"\")\n",
    "    num = int(input(\"숫자 입력 : \"))\n",
    "    print(num)\n",
    "    if num>100 or num<=0:\n",
    "        print(\"숫자 범주가 벗어났어요! 다시!\")\n",
    "        continue\n",
    "    if num == answer:\n",
    "        print(f\"정답! 답은 {answer} 이었습니다! {i}번만에 맞추셨어요!\")\n",
    "        break\n",
    "    elif num > answer:\n",
    "            print(\"DOWN!\")\n",
    "    else:\n",
    "        print(\"UP!\")\n",
    "    i += 1\n",
    "    if i == 11:\n",
    "         print(\"기회 끝! 펑!\")\n",
    "         break"
   ]
  },
  {
   "cell_type": "code",
   "execution_count": 25,
   "id": "74dddb67",
   "metadata": {},
   "outputs": [
    {
     "name": "stdout",
     "output_type": "stream",
     "text": [
      "1 2 4 7 8 11 13 14 16 17 19 "
     ]
    }
   ],
   "source": [
    "## 20보다 작은 정수 중 3의 배수와 5의 배수를 제외하고 출력하기\n",
    "\n",
    "i=1\n",
    "\n",
    "while  True:\n",
    "    if i ==20:\n",
    "        break\n",
    "    elif i%3==0 or i%5 ==0:\n",
    "        i +=1        \n",
    "        continue\n",
    "    else:\n",
    "        print(i,end=\" \")\n",
    "        i +=1\n",
    "    "
   ]
  },
  {
   "cell_type": "code",
   "execution_count": 61,
   "id": "a7a9e236",
   "metadata": {},
   "outputs": [
    {
     "name": "stdout",
     "output_type": "stream",
     "text": [
      "2단\n",
      "2 X 1 = 2\n",
      "2 X 2 = 2\n",
      "2 X 3 = 2\n",
      "2 X 4 = 2\n",
      "2 X 5 = 2\n",
      "2 X 6 = 2\n",
      "2 X 7 = 2\n",
      "2 X 8 = 2\n",
      "2 X 9 = 2\n",
      "3단\n",
      "3 X 1 = 3\n",
      "3 X 2 = 3\n",
      "3 X 3 = 3\n",
      "3 X 4 = 3\n",
      "3 X 5 = 3\n",
      "3 X 6 = 3\n",
      "3 X 7 = 3\n",
      "3 X 8 = 3\n",
      "3 X 9 = 3\n",
      "4단\n",
      "4 X 1 = 4\n",
      "4 X 2 = 4\n",
      "4 X 3 = 4\n",
      "4 X 4 = 4\n",
      "4 X 5 = 4\n",
      "4 X 6 = 4\n",
      "4 X 7 = 4\n",
      "4 X 8 = 4\n",
      "4 X 9 = 4\n",
      "5단\n",
      "5 X 1 = 5\n",
      "5 X 2 = 5\n",
      "5 X 3 = 5\n",
      "5 X 4 = 5\n",
      "5 X 5 = 5\n",
      "5 X 6 = 5\n",
      "5 X 7 = 5\n",
      "5 X 8 = 5\n",
      "5 X 9 = 5\n",
      "6단\n",
      "6 X 1 = 6\n",
      "6 X 2 = 6\n",
      "6 X 3 = 6\n",
      "6 X 4 = 6\n",
      "6 X 5 = 6\n",
      "6 X 6 = 6\n",
      "6 X 7 = 6\n",
      "6 X 8 = 6\n",
      "6 X 9 = 6\n",
      "7단\n",
      "7 X 1 = 7\n",
      "7 X 2 = 7\n",
      "7 X 3 = 7\n",
      "7 X 4 = 7\n",
      "7 X 5 = 7\n",
      "7 X 6 = 7\n",
      "7 X 7 = 7\n",
      "7 X 8 = 7\n",
      "7 X 9 = 7\n",
      "8단\n",
      "8 X 1 = 8\n",
      "8 X 2 = 8\n",
      "8 X 3 = 8\n",
      "8 X 4 = 8\n",
      "8 X 5 = 8\n",
      "8 X 6 = 8\n",
      "8 X 7 = 8\n",
      "8 X 8 = 8\n",
      "8 X 9 = 8\n",
      "9단\n",
      "9 X 1 = 9\n",
      "9 X 2 = 9\n",
      "9 X 3 = 9\n",
      "9 X 4 = 9\n",
      "9 X 5 = 9\n",
      "9 X 6 = 9\n",
      "9 X 7 = 9\n",
      "9 X 8 = 9\n",
      "9 X 9 = 9\n",
      "2 4 6 8 10 12 14 16 18  \n",
      "3 6 9 12 15 18 21 24 27  \n",
      "4 8 12 16 20 24 28 32 36  \n",
      "5 10 15 20 25 30 35 40 45  \n",
      "6 12 18 24 30 36 42 48 54  \n",
      "7 14 21 28 35 42 49 56 63  \n",
      "8 16 24 32 40 48 56 64 72  \n",
      "9 18 27 36 45 54 63 72 81  \n"
     ]
    }
   ],
   "source": [
    "## 2단부터 9단까지\n",
    "\n",
    "for dan in range (2,10):\n",
    "    print(f\"{dan}단\")\n",
    "    for i in range(1,10):\n",
    "        print(f\"{dan} X {i} = {dan}\")\n",
    "\n",
    "for dan in range (2,10):\n",
    "    for i in range(1,10):\n",
    "        print(f\"{dan*i}\", end = \" \")\n",
    "    print(\" \")"
   ]
  },
  {
   "cell_type": "code",
   "execution_count": 1,
   "id": "a8cf0fea",
   "metadata": {},
   "outputs": [
    {
     "name": "stdout",
     "output_type": "stream",
     "text": [
      "          *          \n",
      "         ***         \n",
      "        *****        \n",
      "       *******       \n",
      "      *********      \n",
      "     ***********     \n",
      "    *************    \n",
      "   ***************   \n",
      "  *****************  \n",
      " ******************* \n",
      "\n",
      "\n",
      "\n",
      "         *         \n",
      "        ***        \n",
      "       *****       \n",
      "      *******      \n",
      "     *********     \n",
      "    ***********    \n",
      "   *************   \n",
      "  ***************  \n",
      " ***************** \n",
      "*******************\n"
     ]
    }
   ],
   "source": [
    "## 트리 문제\n",
    "\n",
    "n = int(input(\"층수 : \"))\n",
    "for i in range(1,n+1):\n",
    "    str =\"\"\n",
    "    for j in range(1,n*2+2):\n",
    "        if j > (n+1)-i and j < (n+1)+i:\n",
    "            str += \"*\"\n",
    "        else:\n",
    "            str += \" \"\n",
    "    print(str)\n",
    "    \n",
    "print(\"\\n\\n\")\n",
    "\n",
    "for i in range(1, n+1): ##이쪽이 좀더 깔끔한 것 같다\n",
    "    str = \"\"\n",
    "    for j in range(1,i*2):\n",
    "        str += \"*\"\n",
    "    print(f\"{str:^{n*2-1}}\")\n",
    "\n"
   ]
  },
  {
   "cell_type": "markdown",
   "id": "924b97d3",
   "metadata": {},
   "source": [
    "## 도전문제"
   ]
  },
  {
   "cell_type": "code",
   "execution_count": 17,
   "id": "cbb81a17",
   "metadata": {},
   "outputs": [
    {
     "name": "stdout",
     "output_type": "stream",
     "text": [
      "12345000\n"
     ]
    }
   ],
   "source": [
    "##1번문제 \n",
    " \n",
    "pay = 12345678\n",
    "\n",
    "payout = pay // 1000\n",
    "payout *= 1000\n",
    "\n",
    "print(payout)"
   ]
  },
  {
   "cell_type": "code",
   "execution_count": 51,
   "id": "bd5c63fb",
   "metadata": {},
   "outputs": [
    {
     "name": "stdout",
     "output_type": "stream",
     "text": [
      "6\n"
     ]
    }
   ],
   "source": [
    "##2번 문제\n",
    "a = int(input(\"a : \"))\n",
    "b = int(input(\"b : \"))\n",
    "\n",
    "c = a // b % 10\n",
    "\n",
    "print(c)\n"
   ]
  },
  {
   "cell_type": "code",
   "execution_count": 55,
   "id": "1ace7c8c",
   "metadata": {},
   "outputs": [
    {
     "name": "stdout",
     "output_type": "stream",
     "text": [
      "밑변3과 높이3인 삼각형의 넓이는 4.5\n",
      "풀이과정 : (3(밑변) X 3(높이))/2 = 4.50 \n"
     ]
    }
   ],
   "source": [
    "## 3번 문제 \n",
    "\n",
    "a = int(input(\"a : \")) #밑변\n",
    "b = int(input(\"b : \")) #높이\n",
    "\n",
    "c = (a*b)/2\n",
    "\n",
    "print(f\"밑변{a}과 높이{b}인 삼각형의 넓이는 {c:.1f}\")\n",
    "print(f\"풀이과정 : ({a}(밑변) X {b}(높이))/2 = {c:.1f} \")\n"
   ]
  },
  {
   "cell_type": "code",
   "execution_count": 2,
   "id": "c37381b8",
   "metadata": {},
   "outputs": [
    {
     "name": "stdout",
     "output_type": "stream",
     "text": [
      "10단계에서 쌓인 바둑돌의 총 갯수는 55개\n"
     ]
    }
   ],
   "source": [
    "## 4번 문제\n",
    "\n",
    "n = int(input(\"몇 층까지 셀까요? : \"))\n",
    "i = 1\n",
    "sum = 0\n",
    "while i<=n:\n",
    "    sum += i\n",
    "    i += 1\n",
    "\n",
    "print(f\"{n}단계에서 쌓인 바둑돌의 총 갯수는 {sum}개\")"
   ]
  },
  {
   "cell_type": "code",
   "execution_count": 5,
   "id": "3ca80154",
   "metadata": {},
   "outputs": [
    {
     "name": "stdout",
     "output_type": "stream",
     "text": [
      "num1 = 10, num2 = 5\n",
      "그러므로 num1과 num2를 곱한 수는 50입니다.\n",
      "그리고 num1을 num2번 반복한 문자열은 1010101010입니다.\n"
     ]
    }
   ],
   "source": [
    "## 5번문제\n",
    "\n",
    "num1 = int(input(\"num1 : \"))\n",
    "num2 = int(input(\"num2 : \"))\n",
    "\n",
    "print(f\"num1 = {num1}, num2 = {num2}\\n그러므로 num1과 num2를 곱한 수는 {num1*num2}입니다.\\n그리고 num1을 num2번 반복한 문자열은 \",end =\"\")\n",
    "for i in range(num2):\n",
    "    print(f\"{num1}\", end=\"\")\n",
    "print(\"입니다.\")\n"
   ]
  },
  {
   "cell_type": "code",
   "execution_count": 7,
   "id": "925062fb",
   "metadata": {},
   "outputs": [
    {
     "name": "stdout",
     "output_type": "stream",
     "text": [
      "number는 10입니다.\n",
      "그러므로 number는 짝수입니다.\n"
     ]
    }
   ],
   "source": [
    "## 6번문제\n",
    "\n",
    "number = int(input(\"number : \"))\n",
    "\n",
    "print(f\"number는 {number}입니다.\\n그러므로 number는 \",end=\"\")\n",
    "\n",
    "if number%2 ==0:\n",
    "    print(\"짝수입니다.\")\n",
    "else:\n",
    "    print(\"짝수입니다.\")\n",
    "\n"
   ]
  },
  {
   "cell_type": "code",
   "execution_count": null,
   "id": "495826da",
   "metadata": {},
   "outputs": [
    {
     "name": "stdout",
     "output_type": "stream",
     "text": [
      "점수는 67점.. D입니다..\n"
     ]
    }
   ],
   "source": [
    "## 7번문제\n",
    "\n",
    "score = int(input(\"점수를 입력해주세요 : \"))\n",
    "\n",
    "if score <=100 and score>=0:\n",
    "    if score>=90:\n",
    "        print(f\"점수는 {score}점! A입니다!\")\n",
    "    elif score>=80:\n",
    "        print(f\"점수는 {score}점! B입니다!\")\n",
    "    elif score>=70:\n",
    "        print(f\"점수는 {score}점. C입니다.\")\n",
    "    elif score>=60:\n",
    "        print(f\"점수는 {score}점.. D입니다..\")\n",
    "    else:\n",
    "        print(f\"점수는 {score}점... F입니다...\")\n",
    "else:\n",
    "    print(\"점수가 이상해요! 다시 입력해주세요!\")"
   ]
  },
  {
   "cell_type": "code",
   "execution_count": null,
   "id": "03fe8c26",
   "metadata": {},
   "outputs": [
    {
     "name": "stdout",
     "output_type": "stream",
     "text": [
      "아아아아 kill 가가가가\n"
     ]
    }
   ],
   "source": [
    "## 8번\n",
    "\n",
    "my_nic = input(\"모험가의 이름은? : \")\n",
    "enemy_nic = input(\"적의 이름은? : \")\n",
    "mana = int(input(\"모험가의 마나를 정해주세요 : \"))\n",
    "hp = int(input(\"적의 체력을 정해주세요 : \"))\n",
    "\n",
    "strpass = True\n",
    "while strpass:\n",
    "    if len(my_nic) > 10 or len(my_nic)<1:\n",
    "        my_nic = input(\"모험가의 이름은 10자 이내로 정해야 합니다. 다시 입력해주세요 : \")\n",
    "    elif len(enemy_nic) > 10 or len(enemy_nic)<1:\n",
    "        enemy_nic = input(\"적의 이름은 10자 이내로 정해야 합니다. 다시 입력해주세요 : \")\n",
    "    elif mana > 1000 or mana < 1:\n",
    "        mana = int(input(\"모험가의 마나는 1부터 1000까지만 정할 수 있습니다. 다시 입력해주세요 : \"))\n",
    "    elif hp > 1000 or hp < 1:\n",
    "        hp = int(input(\"적의 체력은 1부터 1000까지만 정할 수 있습니다. 다시 입력해주세요 : \"))\n",
    "    else:\n",
    "        strpass = False\n",
    "    \n",
    "total_damage = (mana//10)*20\n",
    "if total_damage >= hp:\n",
    "    print(f\"{my_nic} kill {enemy_nic}\")\n",
    "else:\n",
    "    print(f\"{enemy_nic} kill {my_nic}\")\n",
    "\n"
   ]
  },
  {
   "cell_type": "code",
   "execution_count": null,
   "id": "0147ab85",
   "metadata": {},
   "outputs": [
    {
     "name": "stdout",
     "output_type": "stream",
     "text": [
      "1\t2\t짝\t4\t5\t짝\t7\t8\t짝\t10\t\n",
      "\n",
      "11\t12\t짝\t14\t15\t짝\t17\t18\t짝\t20\t\n",
      "\n",
      "21\t22\t짝\t24\t25\t짝\t27\t28\t짝\t30\t\n",
      "\n",
      "31\t32\t짝\t34\t35\t\n",
      "\n"
     ]
    }
   ],
   "source": [
    "## 8-2번 문제\n",
    "\n",
    "maxnum = int(input(\"1부터 얼마까지 진행할까요?(예: 20) : \"))\n",
    "\n",
    "str = \"\"\n",
    "for i in range(1,maxnum+1):\n",
    "    if i%10 == 3 or i%10 == 6 or i%10 == 9:\n",
    "        str += \"짝\\t\"\n",
    "    else:\n",
    "        str += f\"{i}\\t\"\n",
    "    \n",
    "    if i%10 == 0 or i == maxnum:\n",
    "        print(f\"{str}\\n\")\n",
    "        str = \"\""
   ]
  },
  {
   "cell_type": "code",
   "execution_count": null,
   "id": "acab1f5b",
   "metadata": {},
   "outputs": [
    {
     "name": "stdout",
     "output_type": "stream",
     "text": [
      "1단\t\t2단\t\t3단\t\t4단\t\t5단\t\t6단\t\t7단\t\t8단\t\t9단\t\t\n",
      "1 X 1 = 1\t2 X 1 = 2\t3 X 1 = 3\t4 X 1 = 4\t5 X 1 = 5\t6 X 1 = 6\t7 X 1 = 7\t8 X 1 = 8\t9 X 1 = 9\t\n",
      "1 X 2 = 2\t2 X 2 = 4\t3 X 2 = 6\t4 X 2 = 8\t5 X 2 = 10\t6 X 2 = 12\t7 X 2 = 14\t8 X 2 = 16\t9 X 2 = 18\t\n",
      "1 X 3 = 3\t2 X 3 = 6\t3 X 3 = 9\t4 X 3 = 12\t5 X 3 = 15\t6 X 3 = 18\t7 X 3 = 21\t8 X 3 = 24\t9 X 3 = 27\t\n",
      "1 X 4 = 4\t2 X 4 = 8\t3 X 4 = 12\t4 X 4 = 16\t5 X 4 = 20\t6 X 4 = 24\t7 X 4 = 28\t8 X 4 = 32\t9 X 4 = 36\t\n",
      "1 X 5 = 5\t2 X 5 = 10\t3 X 5 = 15\t4 X 5 = 20\t5 X 5 = 25\t6 X 5 = 30\t7 X 5 = 35\t8 X 5 = 40\t9 X 5 = 45\t\n",
      "1 X 6 = 6\t2 X 6 = 12\t3 X 6 = 18\t4 X 6 = 24\t5 X 6 = 30\t6 X 6 = 36\t7 X 6 = 42\t8 X 6 = 48\t9 X 6 = 54\t\n",
      "1 X 7 = 7\t2 X 7 = 14\t3 X 7 = 21\t4 X 7 = 28\t5 X 7 = 35\t6 X 7 = 42\t7 X 7 = 49\t8 X 7 = 56\t9 X 7 = 63\t\n",
      "1 X 8 = 8\t2 X 8 = 16\t3 X 8 = 24\t4 X 8 = 32\t5 X 8 = 40\t6 X 8 = 48\t7 X 8 = 56\t8 X 8 = 64\t9 X 8 = 72\t\n",
      "1 X 9 = 9\t2 X 9 = 18\t3 X 9 = 27\t4 X 9 = 36\t5 X 9 = 45\t6 X 9 = 54\t7 X 9 = 63\t8 X 9 = 72\t9 X 9 = 81\t\n"
     ]
    }
   ],
   "source": [
    "## 9번 문제 (변형중첩반복문)\n",
    "\n",
    "for i in range(0,10): ## 곱수\n",
    "    str = \"\"\n",
    "    for j in range(1,10): ##단수\n",
    "        if i == 0:\n",
    "            str += f\"{j}단\\t\\t\"\n",
    "        else :\n",
    "            str += f\"{j} X {i} = {j*i}\\t\"\n",
    "    print(str)"
   ]
  },
  {
   "cell_type": "code",
   "execution_count": 30,
   "id": "c04d3dad",
   "metadata": {},
   "outputs": [
    {
     "name": "stdout",
     "output_type": "stream",
     "text": [
      "*****\n",
      "*****\n",
      "*****\n",
      "*****\n",
      "*****\n",
      "*****\n"
     ]
    }
   ],
   "source": [
    "## 10번 문제\n",
    "\n",
    "a = int(input(\"밑변을 입력해주세요 : \"))\n",
    "b = int(input(\"높이를 입력해주세요 : \"))\n",
    "\n",
    "for i in range(b):\n",
    "    str =\"\"\n",
    "    for j in range(a):\n",
    "        str += \"*\"\n",
    "    print(str)\n"
   ]
  },
  {
   "cell_type": "code",
   "execution_count": null,
   "id": "a5c67b7e",
   "metadata": {},
   "outputs": [],
   "source": [
    "## 11번 문제\n",
    "\n"
   ]
  }
 ],
 "metadata": {
  "kernelspec": {
   "display_name": "Python 3",
   "language": "python",
   "name": "python3"
  },
  "language_info": {
   "codemirror_mode": {
    "name": "ipython",
    "version": 3
   },
   "file_extension": ".py",
   "mimetype": "text/x-python",
   "name": "python",
   "nbconvert_exporter": "python",
   "pygments_lexer": "ipython3",
   "version": "3.11.8"
  }
 },
 "nbformat": 4,
 "nbformat_minor": 5
}
