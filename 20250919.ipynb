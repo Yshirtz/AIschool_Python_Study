{
 "cells": [
  {
   "cell_type": "markdown",
   "id": "1df12455",
   "metadata": {},
   "source": [
    "*실습 특성상 일부러 에러낸 코드가 있을 수 있음"
   ]
  },
  {
   "cell_type": "markdown",
   "id": "e18fadf5",
   "metadata": {},
   "source": [
    "## 기본 자료형"
   ]
  },
  {
   "cell_type": "markdown",
   "id": "8972e696",
   "metadata": {},
   "source": [
    "3 = 정수 int\n",
    "\n",
    "4.5 = 실수 float\n",
    "\n",
    "\"반갑다!\" = 문자열 string\n",
    "\n",
    "참('True'),거짓(0) = 참거짓형 boolean"
   ]
  },
  {
   "cell_type": "code",
   "execution_count": 5,
   "id": "29f4b047",
   "metadata": {},
   "outputs": [
    {
     "name": "stdout",
     "output_type": "stream",
     "text": [
      "hello world!\n"
     ]
    }
   ],
   "source": [
    "print(\"hello world!\") ## 기본적인 출력함수"
   ]
  },
  {
   "cell_type": "code",
   "execution_count": null,
   "id": "88196932",
   "metadata": {},
   "outputs": [
    {
     "data": {
      "text/plain": [
       "'hello'"
      ]
     },
     "execution_count": 3,
     "metadata": {},
     "output_type": "execute_result"
    }
   ],
   "source": [
    "\"hello\" ## 변수만 적어도 주피터노트북 특성상 출력은 해준다. 여기만의 특수성"
   ]
  },
  {
   "cell_type": "code",
   "execution_count": 9,
   "id": "20af25cc",
   "metadata": {},
   "outputs": [
    {
     "name": "stdout",
     "output_type": "stream",
     "text": [
      "<class 'str'>\n",
      "<class 'bool'>\n",
      "<class 'int'>\n",
      "<class 'float'>\n"
     ]
    },
    {
     "data": {
      "text/plain": [
       "int"
      ]
     },
     "execution_count": 9,
     "metadata": {},
     "output_type": "execute_result"
    }
   ],
   "source": [
    "print(type('hello world'))\n",
    "print(type(True))\n",
    "print(type(3))\n",
    "print(type(3.14)) ## 변수의 자료형을 출력하는 함수\n",
    "type(3) ## 주피터에서 함수만 쓰면 이렇게됨"
   ]
  },
  {
   "cell_type": "code",
   "execution_count": null,
   "id": "662f19cd",
   "metadata": {},
   "outputs": [
    {
     "name": "stdout",
     "output_type": "stream",
     "text": [
      "20\n"
     ]
    }
   ],
   "source": [
    "mynum = 10\n",
    "mynum = mynum + 10\n",
    "print(mynum) #이렇게는 되지만"
   ]
  },
  {
   "cell_type": "code",
   "execution_count": null,
   "id": "59d7d614",
   "metadata": {},
   "outputs": [
    {
     "ename": "SyntaxError",
     "evalue": "invalid syntax (343145670.py, line 1)",
     "output_type": "error",
     "traceback": [
      "  \u001b[36mCell\u001b[39m\u001b[36m \u001b[39m\u001b[32mIn[21]\u001b[39m\u001b[32m, line 1\u001b[39m\n\u001b[31m    \u001b[39m\u001b[31mint mynum2 = 10\u001b[39m\n        ^\n\u001b[31mSyntaxError\u001b[39m\u001b[31m:\u001b[39m invalid syntax\n"
     ]
    }
   ],
   "source": [
    "int mynum2 = 10\n",
    "mynum2 = mynum2 + 1.2\n",
    "print(mynum2) ## 이렇게 자료형을 미리 정하면 에러난다"
   ]
  },
  {
   "cell_type": "code",
   "execution_count": 25,
   "id": "700609d5",
   "metadata": {},
   "outputs": [
    {
     "name": "stdout",
     "output_type": "stream",
     "text": [
      "HelloWorld\n",
      "HelloHelloHelloHelloHelloHelloHelloHelloHelloHello\n",
      "HelloHelloHelloHelloHelloHelloHelloHelloHelloHello\n"
     ]
    }
   ],
   "source": [
    "str1 = \"Hello\"\n",
    "str2 = \"World\"\n",
    "print(str1+str2) ## 문자열끼리 더하면 합쳐진다\n",
    "print(str1*10) ## 곱하면 반복뵌다\n",
    "print(10*str1) ## 문자열이 포함되기만 하면 문자열기준으로 출력된다"
   ]
  },
  {
   "cell_type": "code",
   "execution_count": null,
   "id": "daa03987",
   "metadata": {},
   "outputs": [
    {
     "ename": "TypeError",
     "evalue": "can only concatenate str (not \"float\") to str",
     "output_type": "error",
     "traceback": [
      "\u001b[31m---------------------------------------------------------------------------\u001b[39m",
      "\u001b[31mTypeError\u001b[39m                                 Traceback (most recent call last)",
      "\u001b[36mCell\u001b[39m\u001b[36m \u001b[39m\u001b[32mIn[26]\u001b[39m\u001b[32m, line 1\u001b[39m\n\u001b[32m----> \u001b[39m\u001b[32m1\u001b[39m \u001b[38;5;28mprint\u001b[39m(\u001b[43mstr1\u001b[49m\u001b[43m \u001b[49m\u001b[43m+\u001b[49m\u001b[43m \u001b[49m\u001b[43mmynum\u001b[49m)\n",
      "\u001b[31mTypeError\u001b[39m: can only concatenate str (not \"float\") to str"
     ]
    }
   ],
   "source": [
    "print(str1 + mynum) \n",
    "## 파이썬은 암시적 형변환이 없어서 자료형이 다른 변수끼리는 합산이 안된다."
   ]
  },
  {
   "cell_type": "markdown",
   "id": "a8e75e87",
   "metadata": {},
   "source": [
    "## 비교연산자"
   ]
  },
  {
   "cell_type": "markdown",
   "id": "39b922e0",
   "metadata": {},
   "source": [
    "같다, 다르다, 크다, 작다\n",
    "\n",
    "== ,   != , >(=), <(=)"
   ]
  },
  {
   "cell_type": "code",
   "execution_count": 27,
   "id": "43682155",
   "metadata": {},
   "outputs": [
    {
     "name": "stdout",
     "output_type": "stream",
     "text": [
      "True\n",
      "False\n",
      "False\n",
      "True\n",
      "True\n",
      "False\n",
      "True\n",
      "True\n"
     ]
    }
   ],
   "source": [
    "print(1 == 1)\n",
    "print(1 == 0)\n",
    "print(1 != 1)\n",
    "print(1 != 0)\n",
    "print(1 > 0)\n",
    "print(1 < 0)\n",
    "print(1 >= 1)\n",
    "print(1 <= 1)\n"
   ]
  },
  {
   "cell_type": "code",
   "execution_count": 28,
   "id": "b0fb2530",
   "metadata": {},
   "outputs": [
    {
     "name": "stdout",
     "output_type": "stream",
     "text": [
      "Hello World\n",
      "Hello World\n"
     ]
    }
   ],
   "source": [
    "print(str1 +  \" \"  + str2)\n",
    "print(str1, str2) ## ,을 쓰면 이렇게 간단하게 띄어쓰기 구현이 된다."
   ]
  },
  {
   "cell_type": "markdown",
   "id": "7224dded",
   "metadata": {},
   "source": [
    "## 입력"
   ]
  },
  {
   "cell_type": "code",
   "execution_count": 29,
   "id": "afa45adc",
   "metadata": {},
   "outputs": [
    {
     "data": {
      "text/plain": [
       "'ddkssud'"
      ]
     },
     "execution_count": 29,
     "metadata": {},
     "output_type": "execute_result"
    }
   ],
   "source": [
    "input()"
   ]
  },
  {
   "cell_type": "code",
   "execution_count": 30,
   "id": "7f86de2b",
   "metadata": {},
   "outputs": [
    {
     "name": "stdout",
     "output_type": "stream",
     "text": [
      "이름은 이승엽 입니다.\n"
     ]
    }
   ],
   "source": [
    "name = input(\"이름 입력 : \")\n",
    "print(\"이름은\", name, \"입니다.\")"
   ]
  },
  {
   "cell_type": "code",
   "execution_count": null,
   "id": "1f39b2ab",
   "metadata": {},
   "outputs": [
    {
     "name": "stdout",
     "output_type": "stream",
     "text": [
      "10.0 과 3.0 의 사칙연산\n",
      "10.0 + 3.0 = 13.0\n",
      "10.0 - 3.0 = 7.0\n",
      "10.0 x 3.0 = 30.0\n",
      "10.0 / 3.0 = 3.3333333333333335\n"
     ]
    }
   ],
   "source": [
    "## 과제\n",
    "## 사용자로부터 숫자 입력을 받아  +, -, *, / 연산결과를 출력하자\n",
    "numin1 = float(input(\"첫번째 숫자\")) ## 자료형으로 감싸주면된다\n",
    "numin2 = float(input(\"두번째 숫자\"))\n",
    "print(numin1, \"과\", numin2, \"의 사칙연산\")\n",
    "print(numin1, \"+\", numin2, \"=\", numin1+numin2)\n",
    "print(numin1, \"-\", numin2, \"=\", numin1-numin2)\n",
    "print(numin1, \"x\", numin2, \"=\", numin1*numin2)\n",
    "print(numin1, \"/\", numin2, \"=\", numin1/numin2)\n",
    "\n",
    "## 처음 input을 받을때는 무조건 문자열로 받는다. \n",
    "## 그러므로 다른 자료형을 받기 위해선 형변환으로 따로 자료형을 바꿔줘야한다"
   ]
  },
  {
   "cell_type": "code",
   "execution_count": null,
   "id": "df343372",
   "metadata": {},
   "outputs": [
    {
     "name": "stdout",
     "output_type": "stream",
     "text": [
      "27\n",
      "27\n"
     ]
    }
   ],
   "source": [
    "num1 = 0x1B ##16진수형식으로 저장하면 출력이 어떻게 될까?\n",
    "num2 = int(num1)\n",
    "print(num1)\n",
    "print(num2) ##진수 규칙만 지치면 알아서 숫자형으로 잘 바꿔서 출력해주나보다. "
   ]
  },
  {
   "cell_type": "markdown",
   "id": "9d055f27",
   "metadata": {},
   "source": [
    "## 변수"
   ]
  },
  {
   "cell_type": "markdown",
   "id": "b4947b5f",
   "metadata": {},
   "source": [
    "객체를 가리키는 것 \n",
    "객체? ==> 우리가 지금까지 보아온 자료형의 데이터 같은것들"
   ]
  },
  {
   "cell_type": "code",
   "execution_count": null,
   "id": "ec726c01",
   "metadata": {},
   "outputs": [],
   "source": [
    "mynumber34 = 1234 ## 기본적으로 영문으로 작성한다. 숫자도 넣을 수 있다.\n",
    "my_number = 5678 ## 언더바(_) 정도는 들어가도 된다\n",
    "MyNumber = 9101112 ## 대문자도 가능하다. 이걸로 대소문자로 변수구분도 된다"
   ]
  },
  {
   "cell_type": "code",
   "execution_count": 50,
   "id": "dcb4048f",
   "metadata": {},
   "outputs": [
    {
     "ename": "SyntaxError",
     "evalue": "invalid decimal literal (2683299532.py, line 1)",
     "output_type": "error",
     "traceback": [
      "  \u001b[36mCell\u001b[39m\u001b[36m \u001b[39m\u001b[32mIn[50]\u001b[39m\u001b[32m, line 1\u001b[39m\n\u001b[31m    \u001b[39m\u001b[31m1mynum = 1234 ## 숫자부터는 시작 못한다\u001b[39m\n    ^\n\u001b[31mSyntaxError\u001b[39m\u001b[31m:\u001b[39m invalid decimal literal\n"
     ]
    }
   ],
   "source": [
    "1mynum = 1234 ## 숫자부터는 시작 못한다\n",
    " "
   ]
  },
  {
   "cell_type": "code",
   "execution_count": null,
   "id": "dce8ccd0",
   "metadata": {},
   "outputs": [
    {
     "ename": "SyntaxError",
     "evalue": "invalid syntax (2240010301.py, line 1)",
     "output_type": "error",
     "traceback": [
      "  \u001b[36mCell\u001b[39m\u001b[36m \u001b[39m\u001b[32mIn[51]\u001b[39m\u001b[32m, line 1\u001b[39m\n\u001b[31m    \u001b[39m\u001b[31mmy$num = 5678\u001b[39m\n      ^\n\u001b[31mSyntaxError\u001b[39m\u001b[31m:\u001b[39m invalid syntax\n"
     ]
    }
   ],
   "source": [
    "my$num = 5678 ## 언더바(_) 이외 특문도 못쓴다"
   ]
  },
  {
   "cell_type": "code",
   "execution_count": null,
   "id": "123a7f97",
   "metadata": {},
   "outputs": [],
   "source": [
    "## int =100\n",
    "## 절대로 위 처럼 자료형으로 변수명 정하지 마라. \n",
    "## 파이썬이 일단 실행은 해주지만 뒤에 파이썬이 죽어버린다.\n",
    "## 만약 이미 이렇게 되어버렸다면 커널을 재시작 할 것."
   ]
  },
  {
   "cell_type": "markdown",
   "id": "633dc234",
   "metadata": {},
   "source": [
    "## 출력"
   ]
  },
  {
   "cell_type": "code",
   "execution_count": 58,
   "id": "a576ed3c",
   "metadata": {},
   "outputs": [
    {
     "name": "stdout",
     "output_type": "stream",
     "text": [
      "Hello\n",
      "Hello\n",
      "\"안녕\"이라고 말했다\n",
      "순간 '바본가'라고 생각했다\n",
      "\"안녕\"이라고 말했다\n",
      "순간 '바본가'라고 생각했다\n"
     ]
    }
   ],
   "source": [
    "print(\"Hello\") ## 무슨 차이지?\n",
    "print('Hello')\n",
    "\n",
    "print('\"안녕\"이라고 말했다')\n",
    "print(\"순간 '바본가'라고 생각했다\")\n",
    "## ''와 \"\"를 출력 문자열 안에 넣고싶을때를 위해 구별해서 넣을수 있게 했다\n",
    "\n",
    "print(\"\\\"안녕\\\"이라고 말했다\")\n",
    "print('순간 \\'바본가\\'라고 생각했다')\n",
    "## 이렇게 할수도 있긴 하다"
   ]
  },
  {
   "cell_type": "code",
   "execution_count": null,
   "id": "2d0e84fe",
   "metadata": {},
   "outputs": [
    {
     "name": "stdout",
     "output_type": "stream",
     "text": [
      "'낮말'은 새가 듣고 '밤말'은 쥐가 듣는다.\n"
     ]
    }
   ],
   "source": [
    "##과제\n",
    "\n",
    "print(\"'낮말'은 새가 듣고 '밤말'은 쥐가 듣는다.\")"
   ]
  },
  {
   "cell_type": "code",
   "execution_count": 65,
   "id": "01a5efd6",
   "metadata": {},
   "outputs": [
    {
     "name": "stdout",
     "output_type": "stream",
     "text": [
      "Hello,Hello,Hello,Hello,Hello\n",
      "\n",
      "구별점\n",
      "\n",
      "Hello\n",
      "Hello\n",
      "Hello\n",
      "Hello\n",
      "Hello,"
     ]
    }
   ],
   "source": [
    "print(\"Hello\",\"Hello\",\"Hello\",\"Hello\",\"Hello\", end=\"\", sep=\",\")\n",
    "print(\"\\n\\n구별점\\n\")\n",
    "print(\"Hello\",\"Hello\",\"Hello\",\"Hello\",\"Hello\", end=\",\", sep=\"\\n\")\n",
    "#한 함수 안에서 띄어쓰기나(sep),문장 끝(end)규칙을 바꿔줄 수 있다."
   ]
  },
  {
   "cell_type": "code",
   "execution_count": null,
   "id": "d4f19104",
   "metadata": {},
   "outputs": [
    {
     "name": "stdout",
     "output_type": "stream",
     "text": [
      "7 과 3 의 사칙연산\n",
      "7 + 3 = 10\n",
      "7 - 3 = 4\n",
      "7 x 3 = 21\n",
      "7 / 3 = 2.3333333333333335\n"
     ]
    }
   ],
   "source": [
    "num1 = 7\n",
    "num2 = 3\n",
    "print(num1, \"과\", num2, \"의 사칙연산\")\n",
    "print(num1, \"+\", num2, \"=\", num1+num2)\n",
    "print(num1, \"-\", num2, \"=\", num1-num2)\n",
    "print(num1, \"X\", num2, \"=\", num1*num2)\n",
    "print(num1, \"/\", num2, \"=\", num1/num2) \n",
    "## 보통 이렇게 출력할 수 있지만"
   ]
  },
  {
   "cell_type": "code",
   "execution_count": null,
   "id": "86dfc0a9",
   "metadata": {},
   "outputs": [
    {
     "name": "stdout",
     "output_type": "stream",
     "text": [
      "7과 3의 사칙연산\n",
      "7 + 3 = 10\n",
      "7 - 3 = 4\n",
      "7 X 3 = 21\n",
      "7 / 3 = 2.3333333333333335\n"
     ]
    }
   ],
   "source": [
    "print(f\"{num1}과 {num2}의 사칙연산\")\n",
    "print(f\"{num1} + {num2} = {num1+num2}\")\n",
    "print(f\"{num1} - {num2} = {num1-num2}\")\n",
    "print(f\"{num1} X {num2} = {num1*num2}\")\n",
    "print(f\"{num1} / {num2} = {num1/num2}\")\n",
    "## 이렇게 f-string으로 형식을 바꾸면 경우에 따라 더 편하게 쓸수 있다."
   ]
  },
  {
   "cell_type": "code",
   "execution_count": null,
   "id": "df070402",
   "metadata": {},
   "outputs": [
    {
     "name": "stdout",
     "output_type": "stream",
     "text": [
      "1000.1234과 2000.5678의 사칙연산\n",
      "1000.1234 + 2000.5678 = 3,000.69\n",
      "1000.1234 - 2000.5678 = -1,000.44\n",
      "1000.1234 X 2000.5678 = 2,000,814.67\n",
      "1000.1234 / 2000.5678 = 0.50\n"
     ]
    }
   ],
   "source": [
    "num1 = 1000.1234\n",
    "num2 = 2000.5678\n",
    "print(\"{0}과 {1}의 사칙연산\".format(num1,num2))\n",
    "print(\"{0} + {1} = {2:,.2f}\".format(num1,num2,num1+num2))\n",
    "print(\"{0} - {1} = {2:,.2f}\".format(num1,num2,num1-num2))\n",
    "print(\"{0} X {1} = {2:,.2f}\".format(num1,num2,num1*num2))\n",
    "print(\"{0} / {1} = {2:,.2f}\".format(num1,num2,num1/num2))\n",
    "## 소숫점 자리 제한도 된다.(일반 print문도 가능은 할거다) \n",
    "## 경우에따라 잘 써야할거같다. 익숙해지면 편할거같다."
   ]
  },
  {
   "cell_type": "markdown",
   "id": "dd30c42a",
   "metadata": {},
   "source": [
    "## BOOL형의 조건"
   ]
  },
  {
   "cell_type": "code",
   "execution_count": 73,
   "id": "ff243070",
   "metadata": {},
   "outputs": [
    {
     "name": "stdout",
     "output_type": "stream",
     "text": [
      "True\n",
      "True\n",
      "True\n",
      "True\n",
      "True\n",
      "True\n",
      "False\n"
     ]
    }
   ],
   "source": [
    "print(bool(\"1\"))\n",
    "print(bool(\"-1\"))\n",
    "print(bool(\"으아아악\"))\n",
    "print(bool(\"LMAO\"))\n",
    "print(bool(\" \"))\n",
    "print(bool(\"0\"))\n",
    "print(bool(\"\"))"
   ]
  },
  {
   "cell_type": "code",
   "execution_count": 77,
   "id": "ca72b4b5",
   "metadata": {},
   "outputs": [
    {
     "name": "stdout",
     "output_type": "stream",
     "text": [
      "어서오세요! 김밥지옥입니다! 아래는 메뉴입니다!\n",
      "깁밥 : 3,000원\n",
      "떡볶이 : 3,500원\n",
      "라면 : 2,500원\n",
      "\n",
      "깁밥 주문 갯수 : 2\n",
      "떡볶이 주문 갯수 : 1\n",
      "라면 주문 갯수 : 2\n",
      "지불하실 금액은 14,500원 입니다.\n"
     ]
    }
   ],
   "source": [
    "##과제 분식집\n",
    "\n",
    "print(\"어서오세요! 김밥지옥입니다! 아래는 메뉴입니다!\")\n",
    "print(\"깁밥 : 3,000원\",\"떡볶이 : 3,500원\", \"라면 : 2,500원\\n\",sep=\"\\n\")\n",
    "\n",
    "kimbab = int(input(\"깁밥 몇개 주문하시겠어요?\"))\n",
    "tteokbokkee = int(input(\"떡볶이 몇개 주문하시겠어요?\"))\n",
    "Ramyeon = int(input(\"라면 몇개 주문하시겠어요?\"))\n",
    "\n",
    "print(\"깁밥 주문 갯수 :\", kimbab)\n",
    "print(\"떡볶이 주문 갯수 :\", tteokbokkee)\n",
    "print(\"라면 주문 갯수 :\", Ramyeon)\n",
    "print(f\"지불하실 금액은 {kimbab*3000 + tteokbokkee*3500 + Ramyeon*2500:,}원 입니다.\")"
   ]
  },
  {
   "cell_type": "markdown",
   "id": "0b345da8",
   "metadata": {},
   "source": [
    "## 조건문"
   ]
  },
  {
   "cell_type": "code",
   "execution_count": null,
   "id": "29257f3b",
   "metadata": {},
   "outputs": [
    {
     "name": "stdout",
     "output_type": "stream",
     "text": [
      "조건이 거짓일 경우\n",
      "이렇게 출력됨\n"
     ]
    }
   ],
   "source": [
    "##조건에 따라 명령어의 실행여부를 결정한다.\n",
    "isit = True ## True, 0 둘중 하나를 돌아가며 실험해보자\n",
    "\n",
    "if isit:\n",
    "    print(\"조건이 참일 경우\")\n",
    "else:\n",
    "    print(\"조건이 거짓일 경우\")\n",
    "\n",
    "print(\"이렇게 출력됨\")\n"
   ]
  },
  {
   "cell_type": "code",
   "execution_count": null,
   "id": "bda710b6",
   "metadata": {},
   "outputs": [
    {
     "name": "stdout",
     "output_type": "stream",
     "text": [
      "점수가 0점이거나 그 이외의 값일 경우\n",
      "점수는 -100점\n"
     ]
    }
   ],
   "source": [
    "score = -100\n",
    "\n",
    "if score == 100:\n",
    "    print(\"점수가 100점일 경우\")\n",
    "elif score < 100 and score > 0:\n",
    "    print(\"점수가 100점이 아닐 경우\") \n",
    "else:\n",
    "    print(\"점수가 0점이거나 그 이외의 값일 경우\")\n",
    "\n",
    "print(\"점수는 \", score, \"점\",sep ='')"
   ]
  },
  {
   "cell_type": "code",
   "execution_count": 88,
   "id": "5b1bc9ae",
   "metadata": {},
   "outputs": [
    {
     "name": "stdout",
     "output_type": "stream",
     "text": [
      "7은(는) 홀수입니다.\n"
     ]
    }
   ],
   "source": [
    "##홀짝 구분하기\n",
    "num = int(input('숫자를 입력하세요 : '))\n",
    "\n",
    "if num%2 ==0:\n",
    "    print(f\"{num}은(는) 짝수입니다.\")\n",
    "else:\n",
    "    print(f\"{num}은(는) 홀수입니다.\")"
   ]
  },
  {
   "cell_type": "code",
   "execution_count": 103,
   "id": "c3041c14",
   "metadata": {},
   "outputs": [
    {
     "name": "stdout",
     "output_type": "stream",
     "text": [
      "점수는 56점... F입니다...\n"
     ]
    }
   ],
   "source": [
    "## 점수 계산 프로그램\n",
    "\n",
    "score = int(input(\"점수를 입력해주세요 : \"))\n",
    "\n",
    "if score <=100 and score>=0:\n",
    "    if score>=90:\n",
    "        print(f\"점수는 {score}점! A입니다!\")\n",
    "    elif score>=80:\n",
    "        print(f\"점수는 {score}점! B입니다!\")\n",
    "    elif score>=70:\n",
    "        print(f\"점수는 {score}점. C입니다.\")\n",
    "    elif score>=60:\n",
    "        print(f\"점수는 {score}점.. D입니다..\")\n",
    "    else:\n",
    "        print(f\"점수는 {score}점... F입니다...\")\n",
    "else:\n",
    "    print(\"점수가 이상해요! 다시 입력해주세요!\")"
   ]
  },
  {
   "cell_type": "markdown",
   "id": "47aac690",
   "metadata": {},
   "source": [
    "## 반복문 (for,While)"
   ]
  },
  {
   "cell_type": "code",
   "execution_count": null,
   "id": "1137a47b",
   "metadata": {},
   "outputs": [
    {
     "name": "stdout",
     "output_type": "stream",
     "text": [
      "Hello\n",
      "Hello\n",
      "Hello\n",
      "Hello\n",
      "Hello\n",
      "Hello\n",
      "Hello\n",
      "Hello\n",
      "Hello\n",
      "Hello\n",
      "A반 출석번호 1번! 춘식이!\n",
      "A반 출석번호 2번! 두식이!\n",
      "A반 출석번호 3번! 삼식이!\n",
      "A반 출석번호 4번! 너시기!\n",
      "A반 출석번호 5번! 오징어!\n",
      "A반 출석번호 6번! 육개장!\n"
     ]
    }
   ],
   "source": [
    "## for 반복문\n",
    "\n",
    "for i in range(10): #기본적인 형태 \n",
    "    print(\"Hello\")\n",
    "\n",
    "classnum = 1\n",
    "class_A = [\"춘식이\", \"두식이\", \"삼식이\", \"너시기\", \"오징어\", \"육개장\"]\n",
    "for student in class_A: #배열이나 리스트에서도 쓸 수 있다.\n",
    "    print(f\"A반 출석번호 {classnum}번! {student}!\")\n",
    "    classnum += 1\n",
    "\n",
    "## range(n)은 0부터 n-1까지 연속으로 숫자 시퀀스를 만들어주는 함수\n",
    "## 경우에 따라 (s,n)형태로 시작 숫자를 정할 수도 있고, (s,n,step)으로 step씩 건너뛰며 만들게 할수도 있다."
   ]
  },
  {
   "cell_type": "code",
   "execution_count": null,
   "id": "97a8a2f7",
   "metadata": {},
   "outputs": [
    {
     "name": "stdout",
     "output_type": "stream",
     "text": [
      "1부터 10까지의 합 55\n",
      "1부터 10까지의 곱 3628800\n",
      "4 X 1 = 4\n",
      "4 X 2 = 8\n",
      "4 X 3 = 12\n",
      "4 X 4 = 16\n",
      "4 X 5 = 20\n",
      "4 X 6 = 24\n",
      "4 X 7 = 28\n",
      "4 X 8 = 32\n",
      "4 X 9 = 36\n"
     ]
    }
   ],
   "source": [
    "##과제 1부터 10까지의 합과 곱, 그리고 입력한 단수의 구구단\n",
    "num = 0\n",
    "for i in range(1,11):\n",
    "    num += i\n",
    "\n",
    "print(\"1부터 10까지의 합\", num)\n",
    "\n",
    "num = 1\n",
    "for i in range(1,11):\n",
    "    num *= i\n",
    "\n",
    "print(\"1부터 10까지의 곱\", num)\n",
    "\n",
    "num = int(input(\"단수는? : \"))\n",
    "\n",
    "for i in range(1,10):\n",
    "    print(f\"{num} X {i} = {num*i}\")"
   ]
  },
  {
   "cell_type": "code",
   "execution_count": 116,
   "id": "b2a9c49d",
   "metadata": {},
   "outputs": [
    {
     "name": "stdout",
     "output_type": "stream",
     "text": [
      "1번째 Hello!\n",
      "2번째 Hello!\n",
      "3번째 Hello!\n",
      "4번째 Hello!\n",
      "5번째 Hello!\n",
      "6번째 Hello!\n",
      "7번째 Hello!\n",
      "8번째 Hello!\n",
      "9번째 Hello!\n",
      "10번째 Hello!\n"
     ]
    }
   ],
   "source": [
    "## while문\n",
    "i=1\n",
    "while i <= 10: ## 기본적인 형태\n",
    "    print(f\"{i}번째 Hello!\")\n",
    "    i += 1"
   ]
  },
  {
   "cell_type": "code",
   "execution_count": null,
   "id": "d1e90d7c",
   "metadata": {},
   "outputs": [
    {
     "name": "stdout",
     "output_type": "stream",
     "text": [
      "합은 55\n",
      "곱은 3628800\n",
      "10 X 1 = 10\n",
      "10 X 2 = 20\n",
      "10 X 3 = 30\n",
      "10 X 4 = 40\n",
      "10 X 5 = 50\n",
      "10 X 6 = 60\n",
      "10 X 7 = 70\n",
      "10 X 8 = 80\n",
      "10 X 9 = 90\n"
     ]
    }
   ],
   "source": [
    "#while문으로 1부터 입력받은 정수값까지의 합을 구하기\n",
    "sum = 0\n",
    "i = 1\n",
    "numinput = int(input(\"정수 입력 : \"))\n",
    "while i <= numinput:\n",
    "    sum += i\n",
    "    i += 1\n",
    "\n",
    "print(f\"합은 {sum}\")\n",
    "\n",
    "#곱 구하기\n",
    "sum = 1\n",
    "i = 1\n",
    "numinput = int(input(\"정수 입력 : \"))\n",
    "while i <= numinput:\n",
    "    sum *= i\n",
    "    i += 1\n",
    "\n",
    "print(f\"곱은 {sum}\")\n",
    "\n",
    "#구구단 만들기\n",
    "i = 1\n",
    "numinput = int(input(\"정수 입력 : \"))\n",
    "while i <= 9:\n",
    "    print(f\"{numinput} X {i} = {numinput*i}\")\n",
    "    i += 1\n",
    "\n"
   ]
  }
 ],
 "metadata": {
  "kernelspec": {
   "display_name": "Python 3",
   "language": "python",
   "name": "python3"
  },
  "language_info": {
   "codemirror_mode": {
    "name": "ipython",
    "version": 3
   },
   "file_extension": ".py",
   "mimetype": "text/x-python",
   "name": "python",
   "nbconvert_exporter": "python",
   "pygments_lexer": "ipython3",
   "version": "3.11.8"
  }
 },
 "nbformat": 4,
 "nbformat_minor": 5
}
